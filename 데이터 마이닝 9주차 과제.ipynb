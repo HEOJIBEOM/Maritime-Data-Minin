{
  "cells": [
    {
      "cell_type": "markdown",
      "metadata": {
        "id": "view-in-github",
        "colab_type": "text"
      },
      "source": [
        "<a href=\"https://colab.research.google.com/github/HEOJIBEOM/Maritime-Data-Minin/blob/main/%EB%8D%B0%EC%9D%B4%ED%84%B0%20%EB%A7%88%EC%9D%B4%EB%8B%9D%209%EC%A3%BC%EC%B0%A8%20%EA%B3%BC%EC%A0%9C.ipynb\" target=\"_parent\"><img src=\"https://colab.research.google.com/assets/colab-badge.svg\" alt=\"Open In Colab\"/></a>"
      ]
    },
    {
      "cell_type": "code",
      "source": [
        "!pip install beautifulsoup4 requests"
      ],
      "metadata": {
        "collapsed": true,
        "colab": {
          "base_uri": "https://localhost:8080/"
        },
        "id": "HXlXRSe5EsRR",
        "outputId": "04461081-3a79-4312-a9fc-a7d77b127912"
      },
      "execution_count": 4,
      "outputs": [
        {
          "output_type": "stream",
          "name": "stdout",
          "text": [
            "Requirement already satisfied: beautifulsoup4 in /usr/local/lib/python3.11/dist-packages (4.13.4)\n",
            "Requirement already satisfied: requests in /usr/local/lib/python3.11/dist-packages (2.32.3)\n",
            "Requirement already satisfied: soupsieve>1.2 in /usr/local/lib/python3.11/dist-packages (from beautifulsoup4) (2.7)\n",
            "Requirement already satisfied: typing-extensions>=4.0.0 in /usr/local/lib/python3.11/dist-packages (from beautifulsoup4) (4.13.2)\n",
            "Requirement already satisfied: charset-normalizer<4,>=2 in /usr/local/lib/python3.11/dist-packages (from requests) (3.4.2)\n",
            "Requirement already satisfied: idna<4,>=2.5 in /usr/local/lib/python3.11/dist-packages (from requests) (3.10)\n",
            "Requirement already satisfied: urllib3<3,>=1.21.1 in /usr/local/lib/python3.11/dist-packages (from requests) (2.4.0)\n",
            "Requirement already satisfied: certifi>=2017.4.17 in /usr/local/lib/python3.11/dist-packages (from requests) (2025.4.26)\n"
          ]
        }
      ]
    },
    {
      "cell_type": "code",
      "source": [
        "!pip show pandas\n",
        "\n",
        "!pip show openpyxl"
      ],
      "metadata": {
        "collapsed": true,
        "colab": {
          "base_uri": "https://localhost:8080/"
        },
        "id": "cdgJM8OAHDJh",
        "outputId": "e8631ece-246c-4508-9bda-7b1394abeed8"
      },
      "execution_count": 10,
      "outputs": [
        {
          "output_type": "stream",
          "name": "stdout",
          "text": [
            "Name: pandas\n",
            "Version: 2.2.2\n",
            "Summary: Powerful data structures for data analysis, time series, and statistics\n",
            "Home-page: https://pandas.pydata.org\n",
            "Author: \n",
            "Author-email: The Pandas Development Team <pandas-dev@python.org>\n",
            "License: BSD 3-Clause License\n",
            "\n",
            "Copyright (c) 2008-2011, AQR Capital Management, LLC, Lambda Foundry, Inc. and PyData Development Team\n",
            "All rights reserved.\n",
            "\n",
            "Copyright (c) 2011-2023, Open source contributors.\n",
            "\n",
            "Redistribution and use in source and binary forms, with or without\n",
            "modification, are permitted provided that the following conditions are met:\n",
            "\n",
            "* Redistributions of source code must retain the above copyright notice, this\n",
            "  list of conditions and the following disclaimer.\n",
            "\n",
            "* Redistributions in binary form must reproduce the above copyright notice,\n",
            "  this list of conditions and the following disclaimer in the documentation\n",
            "  and/or other materials provided with the distribution.\n",
            "\n",
            "* Neither the name of the copyright holder nor the names of its\n",
            "  contributors may be used to endorse or promote products derived from\n",
            "  this software without specific prior written permission.\n",
            "\n",
            "THIS SOFTWARE IS PROVIDED BY THE COPYRIGHT HOLDERS AND CONTRIBUTORS \"AS IS\"\n",
            "AND ANY EXPRESS OR IMPLIED WARRANTIES, INCLUDING, BUT NOT LIMITED TO, THE\n",
            "IMPLIED WARRANTIES OF MERCHANTABILITY AND FITNESS FOR A PARTICULAR PURPOSE ARE\n",
            "DISCLAIMED. IN NO EVENT SHALL THE COPYRIGHT HOLDER OR CONTRIBUTORS BE LIABLE\n",
            "FOR ANY DIRECT, INDIRECT, INCIDENTAL, SPECIAL, EXEMPLARY, OR CONSEQUENTIAL\n",
            "DAMAGES (INCLUDING, BUT NOT LIMITED TO, PROCUREMENT OF SUBSTITUTE GOODS OR\n",
            "SERVICES; LOSS OF USE, DATA, OR PROFITS; OR BUSINESS INTERRUPTION) HOWEVER\n",
            "CAUSED AND ON ANY THEORY OF LIABILITY, WHETHER IN CONTRACT, STRICT LIABILITY,\n",
            "OR TORT (INCLUDING NEGLIGENCE OR OTHERWISE) ARISING IN ANY WAY OUT OF THE USE\n",
            "OF THIS SOFTWARE, EVEN IF ADVISED OF THE POSSIBILITY OF SUCH DAMAGE.\n",
            "Location: /usr/local/lib/python3.11/dist-packages\n",
            "Requires: numpy, python-dateutil, pytz, tzdata\n",
            "Required-by: arviz, bigframes, bigquery-magics, bokeh, bqplot, cmdstanpy, cudf-cu12, cufflinks, dask-cuda, dask-cudf-cu12, dask-expr, datascience, datasets, db-dtypes, dopamine_rl, fastai, geemap, geopandas, google-colab, gspread-dataframe, holoviews, libpysal, mizani, mlxtend, pandas-datareader, pandas-gbq, panel, plotnine, prophet, pymc, seaborn, shap, sklearn-pandas, statsmodels, tensorflow_decision_forests, tsfresh, vega-datasets, xarray, yfinance\n",
            "Name: openpyxl\n",
            "Version: 3.1.5\n",
            "Summary: A Python library to read/write Excel 2010 xlsx/xlsm files\n",
            "Home-page: https://openpyxl.readthedocs.io\n",
            "Author: See AUTHORS\n",
            "Author-email: charlie.clark@clark-consulting.eu\n",
            "License: MIT\n",
            "Location: /usr/local/lib/python3.11/dist-packages\n",
            "Requires: et-xmlfile\n",
            "Required-by: \n"
          ]
        }
      ]
    },
    {
      "cell_type": "code",
      "source": [
        "import requests\n",
        "\n",
        "from bs4 import BeautifulSoup as bs\n",
        "import pandas as pd\n",
        "\n",
        "page = requests.get(\"https://library.gabia.com/\")\n",
        "soup = bs(page.text, \"html.parser\")\n",
        "\n",
        "elements = soup.select('div.esg-entry-content a.eg-grant-element-0')\n",
        "\n",
        "titles = []\n",
        "links = []\n",
        "for index, element in enumerate(elements, 1):\n",
        "        titles.append(element.text)\n",
        "        links.append(element.attrs['href'])\n",
        "\n",
        "\n",
        "df = pd.DataFrame()\n",
        "df['titles'] = titles\n",
        "df['links'] = links\n",
        "\n",
        "df.to_excel('./library_gabia.xlsx', sheet_name='Sheet1')"
      ],
      "metadata": {
        "id": "X4Yq7Mz0GC4_"
      },
      "execution_count": 13,
      "outputs": []
    },
    {
      "cell_type": "markdown",
      "source": [
        "import requests\n",
        "requests는 라이브러리를 불러옵니다.이 라이브러리는 웹 페이지에 요청을 보내고 HTML, JSON 등의 응답을 받을 수 있게 해줍니다.\n",
        "\n",
        "from bs4 import BeautifulSoup as bs\n",
        "BeautifulSoup 라이브러리에서 BeautifulSoup 클래스를 bs라는 이름으로 불러옵니다.\n",
        "HTML 문서를 쉽게 탐색하고 원하는 요소를 추출할 수 있는 도구입니다.\n",
        "\n",
        "import pandas as pd\n",
        "pandas 라이브러리를 pd라는 이름으로 불러옵니다.\n",
        "데이터를 표 형태로 정리하고, CSV/엑셀 등의 파일로 저장할 수 있습니다.\n",
        "\n",
        "page = requests.get(\"https://library.gabia.com/\")\n",
        "requests.get()을 사용해 가비아 라이브러리 웹사이트의 HTML 페이지를 요청합니다.\n",
        "page 변수에 응답 객체(Response object)를 저장합니다.\n",
        "\n",
        "soup = bs(page.text, \"html.parser\")\n",
        "page.text로 받아온 HTML 코드를 BeautifulSoup로 파싱합니다.\n",
        "\"html.parser\"는 HTML을 분석할 때 사용할 파서(parser)의 종류입니다.\n",
        "soup 객체는 HTML을 탐색하기 위한 트리 구조로 변환된 상태입니다.\n",
        "\n",
        "elements = soup.select('div.esg-entry-content a.eg-grant-element-0')\n",
        "CSS 선택자를 이용해 div.esg-entry-content 안에 있는 a.eg-grant-element-0 태그들을 모두 선택합니다.\n",
        "elements는 기사 제목과 링크를 포함한 <a> 태그 리스트입니다.\n",
        "\n",
        "titles = []\n",
        "links = []\n",
        "제목과 링크를 저장할 빈 리스트를 각각 생성합니다.\n",
        "\n",
        "for index, element in enumerate(elements, 1):\n",
        "elements 리스트를 순회하며 하나씩 처리합니다.\n",
        "enumerate(..., 1)은 인덱스를 1부터 시작하도록 해줍니다.\n",
        "index는 순서 번호, element는 현재 처리 중인 <a> 태그입니다.\n",
        "\n",
        "   titles.append(element.text)\n",
        "<a> 태그 안의 텍스트(즉, 기사 제목)를 추출해서 titles 리스트에 추가합니다.\n",
        "\n",
        "  links.append(element.attrs['href'])\n",
        "<a> 태그의 href 속성값(즉, 기사 링크 URL)을 links 리스트에 추가합니다.\n",
        "\n",
        "df = pd.DataFrame()\n",
        "빈 pandas DataFrame 객체를 생성합니다.\n",
        "표 형태로 데이터를 저장하기 위한 틀입니다.\n",
        "\n",
        "df['titles'] = titles\n",
        "titles 리스트를 DataFrame의 'titles' 열로 저장합니다.\n",
        "\n",
        "df['links'] = links\n",
        "links 리스트를 DataFrame의 'links' 열로 저장합니다.\n",
        "\n",
        "df.to_excel('./library_gabia.xlsx', sheet_name='Sheet1')\n",
        "완성된 DataFrame을 library_gabia.xlsx라는 엑셀 파일로 저장합니다.\n",
        "파일은 현재 작업 디렉토리에 생성되며, 엑셀의 시트 이름은 'Sheet1'로 지정됩니다.\n",
        "\n"
      ],
      "metadata": {
        "id": "V7x1_RanZC9D"
      }
    }
  ],
  "metadata": {
    "colab": {
      "name": "Colab 시작하기",
      "provenance": [],
      "include_colab_link": true
    },
    "kernelspec": {
      "display_name": "Python 3",
      "name": "python3"
    }
  },
  "nbformat": 4,
  "nbformat_minor": 0
}