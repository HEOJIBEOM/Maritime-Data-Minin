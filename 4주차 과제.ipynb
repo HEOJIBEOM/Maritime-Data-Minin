{
  "cells": [
    {
      "cell_type": "markdown",
      "metadata": {
        "id": "view-in-github",
        "colab_type": "text"
      },
      "source": [
        "<a href=\"https://colab.research.google.com/github/HEOJIBEOM/Maritime-Data-Minin/blob/main/4%EC%A3%BC%EC%B0%A8%20%EA%B3%BC%EC%A0%9C.ipynb\" target=\"_parent\"><img src=\"https://colab.research.google.com/assets/colab-badge.svg\" alt=\"Open In Colab\"/></a>"
      ]
    },
    {
      "cell_type": "code",
      "execution_count": 11,
      "metadata": {
        "id": "zwFnJsE6vjf8"
      },
      "outputs": [],
      "source": [
        "# 라이브러리 로드\n",
        "import numpy as np\n",
        "import pandas as pd\n",
        "import statsmodels.api as sm\n",
        "from sklearn.model_selection import train_test_split   #sklearn.model_selection library 의 train_test_split() 함수를 사용하는 것을 알림.\n",
        "from sklearn.metrics import mean_squared_error"
      ]
    },
    {
      "cell_type": "markdown",
      "source": [
        "pandas는 데이터 분석 및 처리를 위한 라이브러리로 데이터프레임을 다룰 때 사용한다.\n",
        "\n",
        "as는 약칭을 지정하는 의미이다.\n",
        "\n",
        "statsmodels.api는 통계 모델 수학적 알고리즘을 사용하여 모델링을 위한 라이브러리이다.\n",
        "\n",
        "numpy는 수치 연산 및 다차원 배열을 처리하기 위한 라이브러리이다.\n",
        "\n",
        "train_test_split은 데이터셋을 학습 및 테스트 세트로 분리하기 위한 함수이다.\n",
        "\n",
        "mean_squared_error는 회귀 모델의 평가 지표로 사용되는 MSE(평균제곱오차)를 계산하는 함수이다."
      ],
      "metadata": {
        "id": "vNS3QHZHP8H6"
      }
    },
    {
      "cell_type": "code",
      "source": [
        "#데이터 로드 및 확인\n",
        "data = pd.read_csv(\"/content/02.야구선수연봉(투수).csv\")\n",
        "print(data.shape)\n",
        "print(data.info())\n",
        "print(data.head())"
      ],
      "metadata": {
        "colab": {
          "base_uri": "https://localhost:8080/"
        },
        "id": "tIl0NFrzPhFQ",
        "outputId": "4b7a3907-ac8f-4fd9-9a45-967443b35bdc"
      },
      "execution_count": 4,
      "outputs": [
        {
          "output_type": "stream",
          "name": "stdout",
          "text": [
            "(152, 22)\n",
            "<class 'pandas.core.frame.DataFrame'>\n",
            "RangeIndex: 152 entries, 0 to 151\n",
            "Data columns (total 22 columns):\n",
            " #   Column       Non-Null Count  Dtype  \n",
            "---  ------       --------------  -----  \n",
            " 0   PLAYER       152 non-null    object \n",
            " 1   TEAM         152 non-null    object \n",
            " 2   VICTORY      152 non-null    int64  \n",
            " 3   DEFEAT       152 non-null    int64  \n",
            " 4   SAVE         152 non-null    int64  \n",
            " 5   HOLD         152 non-null    int64  \n",
            " 6   BLOWN        152 non-null    int64  \n",
            " 7   GAME         152 non-null    int64  \n",
            " 8   STARTER      152 non-null    int64  \n",
            " 9   INNING       152 non-null    float64\n",
            " 10  STRIKEOUT9   152 non-null    float64\n",
            " 11  BALLNET9     152 non-null    float64\n",
            " 12  HOMRUN9      152 non-null    float64\n",
            " 13  BABIP        152 non-null    float64\n",
            " 14  LOB          152 non-null    float64\n",
            " 15  ERA          152 non-null    float64\n",
            " 16  RA9_WAR      152 non-null    float64\n",
            " 17  FIP          152 non-null    float64\n",
            " 18  kFIP         152 non-null    float64\n",
            " 19  WAR          152 non-null    float64\n",
            " 20  SALARY_2018  152 non-null    int64  \n",
            " 21  SALARY_2017  152 non-null    int64  \n",
            "dtypes: float64(11), int64(9), object(2)\n",
            "memory usage: 26.3+ KB\n",
            "None\n",
            "           PLAYER    TEAM  VICTORY  DEFEAT  SAVE  HOLD  BLOWN  GAME  STARTER  \\\n",
            "0  Hyun-Jong Yang     KIA       20       6     0     0      0    31       31   \n",
            "1     Casey Kelly      SK       16       7     0     0      0    30       30   \n",
            "2           So-Sa      LG       11      11     1     0      0    30       29   \n",
            "3    Woo-ram Jung  HANWHA        6       4    26     0      5    56        0   \n",
            "4    Brooks Raley   LOTTE       13       7     0     0      0    30       30   \n",
            "\n",
            "   INNING  ...  HOMRUN9  BABIP   LOB   ERA  RA9_WAR   FIP  kFIP   WAR  \\\n",
            "0   193.1  ...     0.79  0.332  72.1  3.44     6.54  3.94  3.82  5.64   \n",
            "1   190.0  ...     0.76  0.342  73.7  3.60     6.91  3.69  3.44  6.62   \n",
            "2   185.1  ...     0.53  0.319  67.1  3.88     6.80  3.52  3.41  6.08   \n",
            "3    59.0  ...     0.76  0.304  79.4  2.75     2.85  3.26  2.69  1.81   \n",
            "4   187.1  ...     0.91  0.323  74.1  3.80     6.13  4.36  4.31  4.38   \n",
            "\n",
            "   SALARY_2018  SALARY_2017  \n",
            "0       230000       150000  \n",
            "1       140000        85000  \n",
            "2       120000        50000  \n",
            "3       120000       120000  \n",
            "4       111000        85000  \n",
            "\n",
            "[5 rows x 22 columns]\n"
          ]
        }
      ]
    },
    {
      "cell_type": "markdown",
      "source": [
        "read_csv() 함수를 이용하여 CSV 파일을 데이터프레임으로 불러와 data라는 변수에 저장한다.\n",
        "\n",
        "data.shape는 데이터의 행과 열의 수를 출력하며, data.info()로 데이터의 기본 정보(컬럼명, 데이터 타입, null 값 유무 등)를 출력한다.\n",
        "\n",
        "data.head()는 데이터프레임의 처음부터 일부 데이터만을 출력하는 데 사용되며, 디폴트는 5이다.\n",
        "\n",
        "data.info(): DataFrame의 각 컬럼별 정보 (이름, Non-Null Count, 데이터 타입)를 확인하여 데이터의 기본적인 속성과 결측치 여부, 데이터 타입을 파악합니다.\n",
        "\n",
        "\"/content/02.야구선수연봉(투수).csv\": read_csv() 함수의 인자로 전달된 파일 경로입니다. 이 경로는 Google Colab 환경의 /content/ 폴더에 있는 02.야구선수연봉(투수).csv 파일을 읽어오라는 의미입니다."
      ],
      "metadata": {
        "id": "qr8qXymtTAcj"
      }
    },
    {
      "cell_type": "code",
      "source": [
        "#train/test 데이터셋 분리\n",
        "train_data, test_data = train_test_split(data, test_size=0.2, random_state=1)"
      ],
      "metadata": {
        "id": "Z7KJfc3_CuDD"
      },
      "execution_count": 5,
      "outputs": []
    },
    {
      "cell_type": "markdown",
      "source": [
        "train_data: 전체 데이터의 80%를 무작위로 추출하여 구성된 학습용 데이터셋입니다. 이 데이터는 모델을 학습시키는 데 사용됩니다.\n",
        "\n",
        "test_data: 전체 데이터의 20%를 무작위로 추출하여 구성된 테스트용 데이터셋입니다. 이 데이터는 학습된 모델의 성능을 평가하는 데 사용됩니다. 학습 과정에 직접적으로 사용되지 않고, 모델이 처음 보는 새로운 데이터에 대해 얼마나 잘 예측하는지를 측정하는 데 활용됩니다.\n",
        "\n",
        "random_state: 데이터셋을 무작위로 분리할 때 사용되는 난수 생성기의 시드(seed) 값을 지정하는 파라미터입니다."
      ],
      "metadata": {
        "id": "UWPONNwjnP5J"
      }
    },
    {
      "cell_type": "markdown",
      "source": [],
      "metadata": {
        "id": "dj3Nv81GnFAl"
      }
    },
    {
      "cell_type": "code",
      "source": [
        "#회귀모델 생성\n",
        "#모델1\n",
        "model1 = sm.OLS.from_formula(\"SALARY_2018 ~ \" + \" + \".join(train_data.columns.difference(['SALARY_2018'])), data=train_data).fit()\n",
        "print(model1.summary())\n",
        "\n",
        "#모델2\n",
        "model2 = sm.OLS.from_formula(\"SALARY_2018 ~ VICTORY + DEFEAT + SAVE + WAR\", data=train_data).fit()\n",
        "print(model2.summary())\n"
      ],
      "metadata": {
        "collapsed": true,
        "id": "GVrop3d3C-ea",
        "outputId": "1a3803f3-e2d8-46cf-a529-979b8c026d41",
        "colab": {
          "base_uri": "https://localhost:8080/"
        }
      },
      "execution_count": 6,
      "outputs": [
        {
          "output_type": "stream",
          "name": "stdout",
          "text": [
            "                            OLS Regression Results                            \n",
            "==============================================================================\n",
            "Dep. Variable:            SALARY_2018   R-squared:                       1.000\n",
            "Model:                            OLS   Adj. R-squared:                    nan\n",
            "Method:                 Least Squares   F-statistic:                       nan\n",
            "Date:                Mon, 31 Mar 2025   Prob (F-statistic):                nan\n",
            "Time:                        08:09:51   Log-Likelihood:                 2057.6\n",
            "No. Observations:                 121   AIC:                            -3873.\n",
            "Df Residuals:                       0   BIC:                            -3535.\n",
            "Df Model:                         120                                         \n",
            "Covariance Type:            nonrobust                                         \n",
            "==============================================================================================\n",
            "                                 coef    std err          t      P>|t|      [0.025      0.975]\n",
            "----------------------------------------------------------------------------------------------\n",
            "Intercept                   1500.8461        inf          0        nan         nan         nan\n",
            "PLAYER[T.Brooks Raley]       131.1369        inf          0        nan         nan         nan\n",
            "PLAYER[T.Byung-Yong Chae]   2333.0598        inf          0        nan         nan         nan\n",
            "PLAYER[T.Casey Kelly]       6424.3669        inf          0        nan         nan         nan\n",
            "PLAYER[T.Chan-Heon Jung]   -5030.9110        inf         -0        nan         nan         nan\n",
            "PLAYER[T.Chang-Min Im]      3582.7009        inf          0        nan         nan         nan\n",
            "PLAYER[T.Chang-Sik Song]    3015.6537        inf          0        nan         nan         nan\n",
            "PLAYER[T.Chang-Yong Lim]   -4635.4869        inf         -0        nan         nan         nan\n",
            "PLAYER[T.Dae-Hyun Kim]      3436.7182        inf          0        nan         nan         nan\n",
            "PLAYER[T.Dae-Yoo Kim]      -2898.1629        inf         -0        nan         nan         nan\n",
            "PLAYER[T.Deok-Ju Ham]      -1.159e+04        inf         -0        nan         nan         nan\n",
            "PLAYER[T.Do-Young Kim]     -3618.3094        inf         -0        nan         nan         nan\n",
            "PLAYER[T.Dong-Hwan Choi]    3032.4826        inf          0        nan         nan         nan\n",
            "PLAYER[T.Dong-Hyun Lee]    -2638.3880        inf         -0        nan         nan         nan\n",
            "PLAYER[T.Dong-Seob Shim]     644.8804        inf          0        nan         nan         nan\n",
            "PLAYER[T.Dong-Yoon Jeong]  -1876.3065        inf         -0        nan         nan         nan\n",
            "PLAYER[T.Eun-Bum Song]      -615.8839        inf         -0        nan         nan         nan\n",
            "PLAYER[T.Geon-Hee Hong]    -1597.6898        inf         -0        nan         nan         nan\n",
            "PLAYER[T.Geon-Uk Yeo]      -3440.9749        inf         -0        nan         nan         nan\n",
            "PLAYER[T.Geon-Yeop Heo]    -1235.2219        inf         -0        nan         nan         nan\n",
            "PLAYER[T.Geum-Kang Choi]    5318.4235        inf          0        nan         nan         nan\n",
            "PLAYER[T.Geun-Hong Park]    -554.2066        inf         -0        nan         nan         nan\n",
            "PLAYER[T.Geun-Jong Cho]     8191.3176        inf          0        nan         nan         nan\n",
            "PLAYER[T.Geun-Young Yoon]  -1208.3481        inf         -0        nan         nan         nan\n",
            "PLAYER[T.Gyu-Hyun Ahn]     -2947.1434        inf         -0        nan         nan         nan\n",
            "PLAYER[T.Gyu-Jin Yoon]     -3304.2871        inf         -0        nan         nan         nan\n",
            "PLAYER[T.Gyun Seo]           799.3423        inf          0        nan         nan         nan\n",
            "PLAYER[T.Hee-Kwan Yoo]     -1.167e+04        inf         -0        nan         nan         nan\n",
            "PLAYER[T.Hee-Sang Yoon]    -9758.6840        inf         -0        nan         nan         nan\n",
            "PLAYER[T.Hee-Su Park]        342.6035        inf          0        nan         nan         nan\n",
            "PLAYER[T.Hee-Woon Ryu]      9594.2322        inf          0        nan         nan         nan\n",
            "PLAYER[T.Hyeong-Beom Lee]   1707.1225        inf          0        nan         nan         nan\n",
            "PLAYER[T.Hyuk Kwon]         1965.7669        inf          0        nan         nan         nan\n",
            "PLAYER[T.Hyun-Ho Lee]       3421.9022        inf          0        nan         nan         nan\n",
            "PLAYER[T.Hyun-Jong Yang]    3.793e+04        inf          0        nan         nan         nan\n",
            "PLAYER[T.Hyun-Jun Im]       2130.9544        inf          0        nan         nan         nan\n",
            "PLAYER[T.Hyun-Seung Lee]     806.3347        inf          0        nan         nan         nan\n",
            "PLAYER[T.Jae-Guk Ryu]      -1.682e+04        inf         -0        nan         nan         nan\n",
            "PLAYER[T.Jae-Hak Lee]      -1171.1092        inf         -0        nan         nan         nan\n",
            "PLAYER[T.Jae-Hwan Bae]     -4629.2418        inf         -0        nan         nan         nan\n",
            "PLAYER[T.Jae-Won Jung]     -1064.1437        inf         -0        nan         nan         nan\n",
            "PLAYER[T.Jae-Woong Shin]    -490.3910        inf         -0        nan         nan         nan\n",
            "PLAYER[T.Jae-Yong Cha]      6180.2336        inf          0        nan         nan         nan\n",
            "PLAYER[T.Jae-Young Kim]    -3692.4405        inf         -0        nan         nan         nan\n",
            "PLAYER[T.Jang-Ho Bae]       3208.8205        inf          0        nan         nan         nan\n",
            "PLAYER[T.Jang-San Kang]    -1547.7578        inf         -0        nan         nan         nan\n",
            "PLAYER[T.Jeong-Woo Im]     -6900.6604        inf         -0        nan         nan         nan\n",
            "PLAYER[T.Ji-Gwang Choi]     2241.6353        inf          0        nan         nan         nan\n",
            "PLAYER[T.Ji-Hoon Park]     -1259.7791        inf         -0        nan         nan         nan\n",
            "PLAYER[T.Ji-Yong Kim]       1226.8077        inf          0        nan         nan         nan\n",
            "PLAYER[T.Jin-Hyung Park]    3808.8333        inf          0        nan         nan         nan\n",
            "PLAYER[T.Jin-Sung Kim]     -5386.2146        inf         -0        nan         nan         nan\n",
            "PLAYER[T.Jin-Woo Im]        2123.1709        inf          0        nan         nan         nan\n",
            "PLAYER[T.Jin-Woo Kim]      -3300.5496        inf         -0        nan         nan         nan\n",
            "PLAYER[T.Jin-Yong Seo]      -731.0895        inf         -0        nan         nan         nan\n",
            "PLAYER[T.Jin-Young Kim]     2382.3574        inf          0        nan         nan         nan\n",
            "PLAYER[T.Jong-Hoon Kim]    -7437.7919        inf         -0        nan         nan         nan\n",
            "PLAYER[T.Jong-Hyeok Lee]   -1655.7335        inf         -0        nan         nan         nan\n",
            "PLAYER[T.Jong-Hyun Won]     -739.1341        inf         -0        nan         nan         nan\n",
            "PLAYER[T.Joo-Han Kim]       2191.1866        inf          0        nan         nan         nan\n",
            "PLAYER[T.Ju-Young Son]      3202.7827        inf          0        nan         nan         nan\n",
            "PLAYER[T.Jun-Hyuk Lim]     -1858.6022        inf         -0        nan         nan         nan\n",
            "PLAYER[T.Jung-Bae Park]     7104.1275        inf          0        nan         nan         nan\n",
            "PLAYER[T.Jung-Jin Park]    -1.048e+04        inf         -0        nan         nan         nan\n",
            "PLAYER[T.Jung-Min Lee]     -3992.1122        inf         -0        nan         nan         nan\n",
            "PLAYER[T.Jung-Rak Shin]     1165.0040        inf          0        nan         nan         nan\n",
            "PLAYER[T.Kang-Yool Kim]     5438.5197        inf          0        nan         nan         nan\n",
            "PLAYER[T.Ki-Jun Lim]        2416.8990        inf          0        nan         nan         nan\n",
            "PLAYER[T.Ki-Young Lim]     -7569.8358        inf         -0        nan         nan         nan\n",
            "PLAYER[T.Kwang-Eun Moon]     200.9865        inf          0        nan         nan         nan\n",
            "PLAYER[T.Kwon Ju]           4170.9894        inf          0        nan         nan         nan\n",
            "PLAYER[T.Kyu-Min Woo]      -5527.8687        inf         -0        nan         nan         nan\n",
            "PLAYER[T.Kyung-Eun No]      -428.8437        inf         -0        nan         nan         nan\n",
            "PLAYER[T.Kyung-Tae Park]    -785.8110        inf         -0        nan         nan         nan\n",
            "PLAYER[T.Min-Ho Lee]       -4419.4532        inf         -0        nan         nan         nan\n",
            "PLAYER[T.Min-Ik Jang]       2581.6617        inf          0        nan         nan         nan\n",
            "PLAYER[T.Min-Woo Kim]      -1645.0891        inf         -0        nan         nan         nan\n",
            "PLAYER[T.Myung-Woo Lee]      662.4238        inf          0        nan         nan         nan\n",
            "PLAYER[T.Pat Dean]         -1.909e+04        inf         -0        nan         nan         nan\n",
            "PLAYER[T.Peaband]           2.445e+04        inf          0        nan         nan         nan\n",
            "PLAYER[T.Sa-Yul Kim]       -6877.9765        inf         -0        nan         nan         nan\n",
            "PLAYER[T.Sang-Baek Eom]    -1419.3558        inf         -0        nan         nan         nan\n",
            "PLAYER[T.Sang-Sam Hong]     -582.1989        inf         -0        nan         nan         nan\n",
            "PLAYER[T.Sang-Won Park]    -1492.3714        inf         -0        nan         nan         nan\n",
            "PLAYER[T.Se-Jin Park]      -1112.1067        inf         -0        nan         nan         nan\n",
            "PLAYER[T.Se-Woong Park]     1723.2471        inf          0        nan         nan         nan\n",
            "PLAYER[T.Seong-Hwan Yoon]  -1.475e+04        inf         -0        nan         nan         nan\n",
            "PLAYER[T.Seung-Hoe Kim]     -611.6225        inf         -0        nan         nan         nan\n",
            "PLAYER[T.Seung-Hyuk Han]    -607.0526        inf         -0        nan         nan         nan\n",
            "PLAYER[T.Seung-Hyun Kim]    8847.2796        inf          0        nan         nan         nan\n",
            "PLAYER[T.Seung-Hyun Lee]    2957.8121        inf          0        nan         nan         nan\n",
            "PLAYER[T.Seung-Jun Song]   -1.183e+04        inf         -0        nan         nan         nan\n",
            "PLAYER[T.Seung-Lak Son]     1425.2683        inf          0        nan         nan         nan\n",
            "PLAYER[T.Seung-Won Moon]    8267.7816        inf          0        nan         nan         nan\n",
            "PLAYER[T.Shi-Hyun Kim]      1678.4430        inf          0        nan         nan         nan\n",
            "PLAYER[T.So-Sa]             2.745e+04        inf          0        nan         nan         nan\n",
            "PLAYER[T.Soo-Chang Shim]    -1.23e+04        inf         -0        nan         nan         nan\n",
            "PLAYER[T.Soo-Min Jung]      1904.8707        inf          0        nan         nan         nan\n",
            "PLAYER[T.Su-Bum Hwang]      4080.2271        inf          0        nan         nan         nan\n",
            "PLAYER[T.Su-Min Lee]        2893.6260        inf          0        nan         nan         nan\n",
            "PLAYER[T.Sung-Mu Ahn]        714.4668        inf          0        nan         nan         nan\n",
            "PLAYER[T.Sung-Mu Hong]     -5657.0200        inf         -0        nan         nan         nan\n",
            "PLAYER[T.Sung-Yong Hong]      69.6890        inf          0        nan         nan         nan\n",
            "PLAYER[T.Sung-Young Choi]    343.3664        inf          0        nan         nan         nan\n",
            "PLAYER[T.Tae-Ho Min]        4006.0393        inf          0        nan         nan         nan\n",
            "PLAYER[T.Tae-Hoon Kim]      3769.3766        inf          0        nan         nan         nan\n",
            "PLAYER[T.Tae-Yang Lee]        90.8444        inf          0        nan         nan         nan\n",
            "PLAYER[T.Won-Joong Kim]     1123.6972        inf          0        nan         nan         nan\n",
            "PLAYER[T.Won-Jun Jang]     -2.158e+04        inf         -0        nan         nan         nan\n",
            "PLAYER[T.Woo-Suk Go]         404.1954        inf          0        nan         nan         nan\n",
            "PLAYER[T.Woo-Yeol Bae]       445.8606        inf          0        nan         nan         nan\n",
            "PLAYER[T.Woo-ram Jung]     -7058.4546        inf         -0        nan         nan         nan\n",
            "PLAYER[T.Yong-Woon Jeong]   1.018e+04        inf          0        nan         nan         nan\n",
            "PLAYER[T.Yoon-Goo Kang]     2739.0072        inf          0        nan         nan         nan\n",
            "PLAYER[T.Young-Ha Lee]      6262.3197        inf          0        nan         nan         nan\n",
            "PLAYER[T.Young-Hoon Seong] -4657.6774        inf         -0        nan         nan         nan\n",
            "PLAYER[T.Young-Il Jeong]   -5451.8805        inf         -0        nan         nan         nan\n",
            "PLAYER[T.Young-Min Son]    -1757.0711        inf         -0        nan         nan         nan\n",
            "PLAYER[T.Young-Myung Ahn]   1.303e+04        inf          0        nan         nan         nan\n",
            "PLAYER[T.Young-Pyo Ko]     -1.774e+04        inf         -0        nan         nan         nan\n",
            "PLAYER[T.Yu-Su Jeon]       -2099.6516        inf         -0        nan         nan         nan\n",
            "TEAM[T.HANWHA]              5976.7839        inf          0        nan         nan         nan\n",
            "TEAM[T.KIA]                 3138.7719        inf          0        nan         nan         nan\n",
            "TEAM[T.KT]                  6090.4202        inf          0        nan         nan         nan\n",
            "TEAM[T.LG]                  5090.4072        inf          0        nan         nan         nan\n",
            "TEAM[T.LOTTE]               2008.9109        inf          0        nan         nan         nan\n",
            "TEAM[T.NC]                  3256.3777        inf          0        nan         nan         nan\n",
            "TEAM[T.SAMSUNG]             1761.8448        inf          0        nan         nan         nan\n",
            "TEAM[T.SK]                  4233.4990        inf          0        nan         nan         nan\n",
            "BABIP                       -665.5175        inf         -0        nan         nan         nan\n",
            "BALLNET9                    1178.0156        inf          0        nan         nan         nan\n",
            "BLOWN                        346.5720        inf          0        nan         nan         nan\n",
            "DEFEAT                       -60.1621        inf         -0        nan         nan         nan\n",
            "ERA                           78.9977        inf          0        nan         nan         nan\n",
            "FIP                          837.1066        inf          0        nan         nan         nan\n",
            "GAME                          61.3792        inf          0        nan         nan         nan\n",
            "HOLD                        -324.8788        inf         -0        nan         nan         nan\n",
            "HOMRUN9                     2373.7649        inf          0        nan         nan         nan\n",
            "INNING                       -52.9580        inf         -0        nan         nan         nan\n",
            "LOB                           19.2529        inf          0        nan         nan         nan\n",
            "RA9_WAR                      130.8345        inf          0        nan         nan         nan\n",
            "SALARY_2017                    0.9904        inf          0        nan         nan         nan\n",
            "SAVE                        -382.7034        inf         -0        nan         nan         nan\n",
            "STARTER                     -260.3662        inf         -0        nan         nan         nan\n",
            "STRIKEOUT9                 -1312.7768        inf         -0        nan         nan         nan\n",
            "VICTORY                      659.6962        inf          0        nan         nan         nan\n",
            "WAR                         8796.2431        inf          0        nan         nan         nan\n",
            "kFIP                       -1950.8065        inf         -0        nan         nan         nan\n",
            "==============================================================================\n",
            "Omnibus:                      104.631   Durbin-Watson:                   1.573\n",
            "Prob(Omnibus):                  0.000   Jarque-Bera (JB):              812.408\n",
            "Skew:                          -3.129   Prob(JB):                    3.87e-177\n",
            "Kurtosis:                      14.045   Cond. No.                     1.06e+06\n",
            "==============================================================================\n",
            "\n",
            "Notes:\n",
            "[1] Standard Errors assume that the covariance matrix of the errors is correctly specified.\n",
            "[2] The input rank is higher than the number of observations.\n",
            "[3] The condition number is large, 1.06e+06. This might indicate that there are\n",
            "strong multicollinearity or other numerical problems.\n",
            "                            OLS Regression Results                            \n",
            "==============================================================================\n",
            "Dep. Variable:            SALARY_2018   R-squared:                       0.693\n",
            "Model:                            OLS   Adj. R-squared:                  0.682\n",
            "Method:                 Least Squares   F-statistic:                     65.47\n",
            "Date:                Mon, 31 Mar 2025   Prob (F-statistic):           7.37e-29\n",
            "Time:                        08:09:51   Log-Likelihood:                -1359.3\n",
            "No. Observations:                 121   AIC:                             2729.\n",
            "Df Residuals:                     116   BIC:                             2743.\n",
            "Df Model:                           4                                         \n",
            "Covariance Type:            nonrobust                                         \n",
            "==============================================================================\n",
            "                 coef    std err          t      P>|t|      [0.025      0.975]\n",
            "------------------------------------------------------------------------------\n",
            "Intercept   4820.0776   2543.807      1.895      0.061    -218.252    9858.407\n",
            "VICTORY     2817.1971    845.880      3.330      0.001    1141.826    4492.568\n",
            "DEFEAT     -1796.7433    822.673     -2.184      0.031   -3426.150    -167.337\n",
            "SAVE        1158.2981    336.387      3.443      0.001     492.042    1824.554\n",
            "WAR          1.45e+04   2239.886      6.472      0.000    1.01e+04    1.89e+04\n",
            "==============================================================================\n",
            "Omnibus:                       46.631   Durbin-Watson:                   2.109\n",
            "Prob(Omnibus):                  0.000   Jarque-Bera (JB):              283.046\n",
            "Skew:                           1.104   Prob(JB):                     3.45e-62\n",
            "Kurtosis:                      10.160   Cond. No.                         11.4\n",
            "==============================================================================\n",
            "\n",
            "Notes:\n",
            "[1] Standard Errors assume that the covariance matrix of the errors is correctly specified.\n"
          ]
        },
        {
          "output_type": "stream",
          "name": "stderr",
          "text": [
            "/usr/local/lib/python3.11/dist-packages/statsmodels/regression/linear_model.py:1795: RuntimeWarning: divide by zero encountered in divide\n",
            "  return 1 - (np.divide(self.nobs - self.k_constant, self.df_resid)\n",
            "/usr/local/lib/python3.11/dist-packages/statsmodels/regression/linear_model.py:1795: RuntimeWarning: invalid value encountered in scalar multiply\n",
            "  return 1 - (np.divide(self.nobs - self.k_constant, self.df_resid)\n",
            "/usr/local/lib/python3.11/dist-packages/statsmodels/regression/linear_model.py:1717: RuntimeWarning: divide by zero encountered in scalar divide\n",
            "  return np.dot(wresid, wresid) / self.df_resid\n"
          ]
        }
      ]
    },
    {
      "cell_type": "markdown",
      "source": [
        "모델1\n",
        "\n",
        "sm.OLS.from_formula(): statsmodels.api에서 제공하는 Ordinary Least Squares (OLS, 최소자승법) 회귀 모델을 생성하는 함수입니다. 이 함수는 종속 변수와 독립 변수 간의 관계를 formula (수식) 형태로 지정하는 방식을 사용합니다.\n",
        "\n",
        "\"SALARY_2018 ~ \" + \" + \".join(train_data.columns.difference(['SALARY_2018'])): 이는 회귀 모델의 formula를 정의하는 부분입니다.\n",
        "\n",
        "\"SALARY_2018 ~ \": SALARY_2018 컬럼을 종속 변수(예측하고자 하는 값)로 설정한다는 의미입니다. ~ 기호는 종속 변수와 독립 변수를 구분합니다.\n",
        "\n",
        "train_data.columns.difference(['SALARY_2018']):\n",
        "train_data.columns: 학습 데이터셋(train_data)의 모든 컬럼 이름들을 담고 있는 pandas Index 객체를 반환합니다.\n",
        "\n",
        ".difference(['SALARY_2018']): 이 Index 객체에서 ['SALARY_2018'] 리스트에 있는 컬럼 이름(즉, 종속 변수 이름)을 제외한 나머지 컬럼 이름들을 담고 있는 새로운 Index 객체를 반환합니다. 이는 종속 변수를 제외한 모든 컬럼을 독립 변수로 사용하겠다는 의미입니다.\n",
        "\n",
        "\" + \".join(...): 위에서 얻은 독립 변수들의 컬럼 이름들을 + 기호로 연결하여 하나의 문자열로 만듭니다. 이는 회귀 모델의 formula에서 여러 독립 변수들을 + 기호로 연결하여 나타내는 방식입니다.\n",
        "\n",
        "전체 formula: 결과적으로 모델 1은 SALARY_2018을 종속 변수로 하고, 학습 데이터셋(train_data)의 SALARY_2018 컬럼을 제외한 모든 다른 컬럼들을 독립 변수로 사용하는 선형 회귀 모델을 정의합니다.\n",
        "\n",
        ", data=train_data: 생성할 회귀 모델에 사용할 데이터로 학습 데이터셋(train_data)을 지정합니다.\n",
        "\n",
        ".fit(): 정의된 OLS 회귀 모델을 학습 데이터(train_data)를 사용하여 적합(fitting)시킵니다. 즉, 최소자승법을 이용하여 회귀 계수들을 추정합니다. 학습된 모델 객체가 model1 변수에 할당됩니다.\n",
        "\n",
        "print(model1.summary()): 학습된 회귀 모델 model1의 요약 결과를 출력합니다. summary() 메서드는 모델의 계수 추정치, 표준 오차, t-통계량, p-값, 결정 계수(R-squared), 수정된 결정 계수(Adjusted R-squared), F-통계량 등 회귀 분석 결과를 상세하게 보여줍니다. 이를 통해 모델의 통계적 유의성과 설명력을 평가할 수 있습니다.\n",
        "\n",
        "모델2\n",
        "\n",
        "sm.OLS.from_formula(\"SALARY_2018 ~ VICTORY + DEFEAT + SAVE + WAR\", data=train_data).fit(): 모델 1과 마찬가지로 OLS 회귀 모델을 생성하고 학습시키는 과정입니다. 하지만 formula가 다릅니다.\n",
        "\n",
        "\"SALARY_2018 ~ VICTORY + DEFEAT + SAVE + WAR\": 이번에는 종속 변수는 여전히 SALARY_2018이지만, 독립 변수로는 VICTORY, DEFEAT, SAVE, WAR 네 개의 특정 컬럼만을 사용하도록 명시적으로 지정했습니다.\n",
        ", data=train_data: 학습 데이터셋(train_data)을 모델 학습에 사용합니다.\n",
        "\n",
        ".fit(): 정의된 회귀 모델을 학습 데이터로 적합시킵니다. 학습된 모델 객체가 model2 변수에 할당됩니다.\n",
        "\n",
        "print(model2.summary()): 학습된 회귀 모델 model2의 요약 결과를 출력합니다. 모델 1과 마찬가지로 계수 추정치, 통계적 유의성 지표, 모델 설명력 등을 확인할 수 있습니다.\n",
        "\n",
        "정리\n",
        "\n",
        "두 모델의 summary() 결과를 비교 분석함으로써 어떤 변수들이 연봉 예측에 유의미한 영향을 미치는지, 모델의 설명력은 어느 정도인지 등을 파악하고, 더 나아가 더 나은 예측 모델을 구축하기 위한 방향을 설정할 수 있습니다. 예를 들어, 모델 1의 결과를 보고 유의미하지 않은 변수들을 제거하거나, 모델 2에 다른 중요한 변수들을 추가하는 등의 개선 작업을 수행할 수 있습니다."
      ],
      "metadata": {
        "id": "Jv15Em-moSLe"
      }
    },
    {
      "cell_type": "code",
      "source": [
        "# 예측\n",
        "pre_lm = model2.predict(test_data)\n",
        "result = pd.DataFrame({'actual': test_data['SALARY_2018'], 'predict': pre_lm})\n",
        "print(result)\n"
      ],
      "metadata": {
        "collapsed": true,
        "id": "dXJGA0q9DTQY",
        "outputId": "96513ac6-aaed-4269-a2d7-231cc2fec156",
        "colab": {
          "base_uri": "https://localhost:8080/"
        }
      },
      "execution_count": 7,
      "outputs": [
        {
          "output_type": "stream",
          "name": "stdout",
          "text": [
            "     actual       predict\n",
            "59    10000  39974.619819\n",
            "33    20000  14498.889582\n",
            "69     8500  11656.423474\n",
            "127    3200   3660.275219\n",
            "31    20000  49535.237615\n",
            "107    4000  11551.607630\n",
            "97     5200  20753.344459\n",
            "14    50000  34522.360453\n",
            "53    11500  33330.787315\n",
            "44    15000  27195.257084\n",
            "146    2800   5979.879921\n",
            "138    3000   2355.497574\n",
            "78     7100  -5343.083468\n",
            "102    4500   2232.154340\n",
            "5    100000  87538.406815\n",
            "85     6300   4049.414877\n",
            "16    50000   7699.066206\n",
            "100    4700  -4954.818843\n",
            "89     6000   6993.202690\n",
            "95     5400   6848.227396\n",
            "91     6000    123.828397\n",
            "124    3300   4675.102276\n",
            "92     5800   8883.508283\n",
            "99     4700  16051.468513\n",
            "93     5700  -2449.204364\n",
            "40    15500  52790.122512\n",
            "29    23000  23944.153710\n",
            "42    15000   8103.096332\n",
            "54    11000  39639.359853\n",
            "122    3400   5840.531400\n",
            "35    19000  20492.785338\n"
          ]
        }
      ]
    },
    {
      "cell_type": "markdown",
      "source": [
        "model2: 앞선 코드에서 sm.OLS.from_formula()를 사용하여 학습시킨 선형 회귀 모델 객체입니다. 이 모델은 VICTORY, DEFEAT, SAVE, WAR를 독립 변수로 사용하여 SALARY_2018을 예측하도록 학습되었습니다.\n",
        "\n",
        ".predict(test_data): 학습된 model2 모델의 predict() 메서드를 호출합니다. 이 메서드는 새로운 데이터(여기서는 test_data)를 입력받아 종속 변수(SALARY_2018)의 예측값을 생성합니다.\n",
        "\n",
        "test_data: 학습 과정에 사용되지 않았던 테스트 데이터셋입니다. 모델의 일반화 성능을 평가하기 위해 사용됩니다. predict() 메서드는 test_data의 독립 변수(VICTORY, DEFEAT, SAVE, WAR) 컬럼의 값을 사용하여 각 선수에 대한 2018년 연봉을 예측합니다.\n",
        "\n",
        "pre_lm: predict() 메서드의 결과로 반환되는 예측된 연봉 값들이 pre_lm이라는 변수에 저장됩니다. 이는 NumPy 배열 또는 pandas Series 형태일 가능성이 높습니다.\n",
        "\n",
        "pd.DataFrame({...}): pandas의 DataFrame 객체를 생성합니다. DataFrame은 테이블 형태의 데이터를 다루는 데 유용한 자료 구조입니다.\n",
        "\n",
        "{'actual': test_data['SALARY_2018'], 'predict': pre_lm}: DataFrame의 내용을 정의하는 딕셔너리입니다.\n",
        "\n",
        "'actual': test_data['SALARY_2018']: 딕셔너리의 'actual'이라는 키에 테스트 데이터셋(test_data)의 실제 SALARY_2018 컬럼의 값들을 할당합니다. 이는 모델이 예측해야 했던 정답(ground truth)에 해당합니다.\n",
        "\n",
        "'predict': pre_lm: 딕셔너리의 'predict'이라는 키에 앞서 모델이 예측한 연봉 값들이 저장된 pre_lm 변수를 할당합니다.\n",
        "\n",
        "result: 생성된 DataFrame 객체가 result라는 변수에 할당됩니다. 이 DataFrame은 'actual' 컬럼에 실제 연봉, 'predict' 컬럼에 모델이 예측한 연봉을 나란히 보여줍니다.\n",
        "\n",
        "정리\n",
        "\n",
        "개별 예측 결과 확인: 각 테스트 데이터에 대해 모델이 얼마나 정확하게 연봉을 예측했는지 'actual' 컬럼과 'predict' 컬럼을 비교하여 알 수 있습니다.\n",
        "예측 오차의 방향 및 크기 파악: 실제 연봉보다 높게 예측했는지 낮게 예측했는지, 그리고 그 차이가 얼마나 되는지를 확인할 수 있습니다.\n",
        "모델의 전반적인 경향성 파악: 전체적인 예측 결과의 패턴을 보면서 모델이 실제 연봉을 과대 또는 과소 예측하는 경향이 있는지 등을 대략적으로 파악할 수 있습니다.\n"
      ],
      "metadata": {
        "id": "2SsCR6Fnpf6k"
      }
    },
    {
      "cell_type": "code",
      "source": [
        "# RMSE 계산\n",
        "import math\n",
        "rmse_value = math.sqrt(mean_squared_error(test_data['SALARY_2018'], pre_lm))\n",
        "print(\"RMSE:\", rmse_value)\n"
      ],
      "metadata": {
        "id": "A3VPhePRDX_X",
        "outputId": "01e4eb98-1472-4ee4-d78e-12d4c3bbb5fa",
        "colab": {
          "base_uri": "https://localhost:8080/"
        }
      },
      "execution_count": 8,
      "outputs": [
        {
          "output_type": "stream",
          "name": "stdout",
          "text": [
            "RMSE: 15760.477097309951\n"
          ]
        }
      ]
    },
    {
      "cell_type": "markdown",
      "source": [
        "import math: 파이썬의 표준 수학 라이브러리를 불러옵니다. 여기서는 제곱근을 계산하는 math.sqrt() 함수를 사용하기 위해 임포트되었습니다.\n",
        "\n",
        "mean_squared_error(): 앞서 코드의 첫 부분에서 from sklearn.metrics import mean_squared_error를 통해 불러온 함수입니다.\n",
        "\n",
        "test_data['SALARY_2018']: 테스트 데이터셋의 실제 2018년 연봉 값들을 나타냅니다.\n",
        "\n",
        "pre_lm: 앞선 코드에서 model2.predict(test_data)를 통해 얻은 예측된 2018년 연봉 값들을 나타냅니다.\n",
        "이 함수는 실제 연봉과 예측 연봉 간의 평균 제곱 오차 (MSE)를 계산하여 반환합니다. 즉, 각 데이터 포인트에 대해 (실제 값 - 예측 값)² 을 계산하고, 이 값들의 평균을 구합니다.\n",
        "\n",
        "math.sqrt(): math 라이브러리에서 제공하는 제곱근을 계산하는 함수입니다.\n",
        "mean_squared_error() 함수의 반환값인 MSE를 입력으로 받아 그 제곱근을 계산합니다. 이 값이 바로 RMSE입니다.\n",
        "rmse_value = ...: 계산된 RMSE 값이 rmse_value라는 변수에 할당됩니다.\n",
        "\n",
        "정리\n",
        "\n",
        "RMSE 값 15760.48은 모델 2가 VICTORY, DEFEAT, SAVE, WAR 변수만을 사용하여 2018년 연봉을 예측했을 때, 실제 연봉과 예측 연봉 간의 평균적인 오차가 약 15760.48 (데이터 단위에 따라 해석) 만큼 발생한다는 것을 의미합니다. 이 값이 모델의 성능이 좋다고 단정하기는 어렵고, 데이터의 특성, 다른 모델과의 비교, 비즈니스적인 중요도 등을 종합적으로 고려하여 판단해야 합니다."
      ],
      "metadata": {
        "id": "9La_UOG7qE6A"
      }
    }
  ],
  "metadata": {
    "colab": {
      "provenance": [],
      "include_colab_link": true
    },
    "kernelspec": {
      "display_name": "Python 3",
      "name": "python3"
    }
  },
  "nbformat": 4,
  "nbformat_minor": 0
}