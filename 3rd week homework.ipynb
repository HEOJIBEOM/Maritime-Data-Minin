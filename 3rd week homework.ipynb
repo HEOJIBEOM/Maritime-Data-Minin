{
  "nbformat": 4,
  "nbformat_minor": 0,
  "metadata": {
    "colab": {
      "provenance": [],
      "authorship_tag": "ABX9TyOp+qFxSlAoa8x/bduFasgL",
      "include_colab_link": true
    },
    "kernelspec": {
      "name": "python3",
      "display_name": "Python 3"
    },
    "language_info": {
      "name": "python"
    }
  },
  "cells": [
    {
      "cell_type": "markdown",
      "metadata": {
        "id": "view-in-github",
        "colab_type": "text"
      },
      "source": [
        "<a href=\"https://colab.research.google.com/github/HEOJIBEOM/Maritime-Data-Minin/blob/main/3rd%20week%20homework.ipynb\" target=\"_parent\"><img src=\"https://colab.research.google.com/assets/colab-badge.svg\" alt=\"Open In Colab\"/></a>"
      ]
    },
    {
      "cell_type": "code",
      "source": [
        "a = [2, 3, 4, 5, 6]\n",
        "print (a)\n",
        "\n",
        "rev_a = []\n",
        "for _ in range(len(a)):\n",
        "    rev_a.append(a.pop())\n",
        "\n",
        "print (rev_a)"
      ],
      "metadata": {
        "colab": {
          "base_uri": "https://localhost:8080/"
        },
        "id": "KFFtK7X1pXCF",
        "outputId": "337f3c61-9389-4ab2-bb93-eb6e68c33b07"
      },
      "execution_count": 29,
      "outputs": [
        {
          "output_type": "stream",
          "name": "stdout",
          "text": [
            "[2, 3, 4, 5, 6]\n",
            "[6, 5, 4, 3, 2]\n"
          ]
        }
      ]
    },
    {
      "cell_type": "code",
      "source": [
        "tup = 1, 2, 5, 4, 3, 2, 9, 4, 7, 8, 9, 9, 3, 7, 3\n",
        "print ('주어진 튜플은:',tup)\n",
        "temp = sorted(list(tup))\n",
        "\n",
        "max_count = 1\n",
        "count = 1\n",
        "cur_value = max_value = temp[0]\n",
        "\n",
        "for i in range(1, len(temp)):\n",
        "  if temp[i] is cur_value:\n",
        "    count +=1\n",
        "    if count >= max_count:\n",
        "      max_count = count\n",
        "      max_value = cur_value\n",
        "  else:\n",
        "      cur_value = temp[i]\n",
        "      count = 1\n",
        "\n",
        "print ('가장 많이 나타나는 원소는:', max_value)"
      ],
      "metadata": {
        "colab": {
          "base_uri": "https://localhost:8080/"
        },
        "id": "yFHmCHAlqTMZ",
        "outputId": "4d9076f9-5f27-4c9e-aa0c-bee1a1cba9b3"
      },
      "execution_count": 41,
      "outputs": [
        {
          "output_type": "stream",
          "name": "stdout",
          "text": [
            "주어진 튜플은: (1, 2, 5, 4, 3, 2, 9, 4, 7, 8, 9, 9, 3, 7, 3)\n",
            "가장 많이 나타나는 원소는: 9\n"
          ]
        }
      ]
    },
    {
      "cell_type": "code",
      "source": [
        "menu = {'Americano' : 3000, 'Ice Americano' : 3500, 'Cappuccino' : 4000, 'Caffe Latte' : 4500, 'Espresso' : 3600}\n",
        "\n",
        "for key in menu:\n",
        "  print (\"{:16s} 가격 : {:,}원\".format(key, menu[key]))\n",
        "\n",
        "choice = input('위의 메뉴중 하나를 선택하세요:')\n",
        "if choice in menu.keys():\n",
        "  print('{}는 {:,}원 입니다. 결제를 부탁합니다.'.format(choice, menu[choice]))\n",
        "else:\n",
        "  print('미안합니다. {}는 메뉴에 없습니다.'.format(choice))"
      ],
      "metadata": {
        "colab": {
          "base_uri": "https://localhost:8080/"
        },
        "id": "rCAssneCM2YY",
        "outputId": "970aeedf-4b10-4015-a0c2-e01aa7bc1c41"
      },
      "execution_count": 50,
      "outputs": [
        {
          "output_type": "stream",
          "name": "stdout",
          "text": [
            "Americano        가격 : 3,000원\n",
            "Ice Americano    가격 : 3,500원\n",
            "Cappuccino       가격 : 4,000원\n",
            "Caffe Latte      가격 : 4,500원\n",
            "Espresso         가격 : 3,600원\n",
            "위의 메뉴중 하나를 선택하세요:apple\n",
            "미안합니다. apple는 메뉴에 없습니다.\n"
          ]
        }
      ]
    },
    {
      "cell_type": "markdown",
      "source": [],
      "metadata": {
        "id": "ed1198zCpWQZ"
      }
    }
  ]
}